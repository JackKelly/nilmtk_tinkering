{
 "metadata": {
  "name": "",
  "signature": "sha256:3d6be2fca57cb2c0e9d7734fbe0febc3d72011f450f861a87558aba93d4aef27"
 },
 "nbformat": 3,
 "nbformat_minor": 0,
 "worksheets": [
  {
   "cells": [
    {
     "cell_type": "code",
     "collapsed": false,
     "input": [
      "from __future__ import print_function, division\n",
      "from nilmtk import DataSet, __version__\n",
      "import pandas as pd\n",
      "import numpy as np\n",
      "from datetime import timedelta\n",
      "from sys import stdout\n",
      "\n",
      "print(\"Pandas version =\", pd.__version__)\n",
      "print(\"Numpy version  =\", np.__version__)\n",
      "print(\"NILMTK version =\", __version__)"
     ],
     "language": "python",
     "metadata": {},
     "outputs": [
      {
       "output_type": "stream",
       "stream": "stdout",
       "text": [
        "Pandas version = 0.15.1\n",
        "Numpy version  = 1.8.2\n",
        "NILMTK version = 0.2.0.dev\n"
       ]
      }
     ],
     "prompt_number": 1
    },
    {
     "cell_type": "code",
     "collapsed": false,
     "input": [
      "dataset = DataSet('/data/mine/vadeec/merged/ukdale.h5')\n",
      "hdf_data_store = dataset.store\n",
      "store = hdf_data_store.store"
     ],
     "language": "python",
     "metadata": {},
     "outputs": [],
     "prompt_number": 2
    },
    {
     "cell_type": "code",
     "collapsed": false,
     "input": [],
     "language": "python",
     "metadata": {},
     "outputs": []
    },
    {
     "cell_type": "code",
     "collapsed": false,
     "input": [
      "key = '/building3/elec/meter1'\n",
      "df = store[key]"
     ],
     "language": "python",
     "metadata": {},
     "outputs": [],
     "prompt_number": 3
    },
    {
     "cell_type": "code",
     "collapsed": false,
     "input": [
      "df.head()"
     ],
     "language": "python",
     "metadata": {},
     "outputs": [
      {
       "html": [
        "<div style=\"max-height:1000px;max-width:1500px;overflow:auto;\">\n",
        "<table border=\"1\" class=\"dataframe\">\n",
        "  <thead>\n",
        "    <tr>\n",
        "      <th>physical_quantity</th>\n",
        "      <th>power</th>\n",
        "    </tr>\n",
        "    <tr>\n",
        "      <th>type</th>\n",
        "      <th>apparent</th>\n",
        "    </tr>\n",
        "  </thead>\n",
        "  <tbody>\n",
        "    <tr>\n",
        "      <th>2013-02-27 20:35:14+00:00</th>\n",
        "      <td> 5</td>\n",
        "    </tr>\n",
        "    <tr>\n",
        "      <th>2013-02-27 20:35:20+00:00</th>\n",
        "      <td> 4</td>\n",
        "    </tr>\n",
        "    <tr>\n",
        "      <th>2013-02-27 20:35:26+00:00</th>\n",
        "      <td> 5</td>\n",
        "    </tr>\n",
        "    <tr>\n",
        "      <th>2013-02-27 20:35:32+00:00</th>\n",
        "      <td> 5</td>\n",
        "    </tr>\n",
        "    <tr>\n",
        "      <th>2013-02-27 20:35:38+00:00</th>\n",
        "      <td> 4</td>\n",
        "    </tr>\n",
        "  </tbody>\n",
        "</table>\n",
        "</div>"
       ],
       "metadata": {},
       "output_type": "pyout",
       "prompt_number": 4,
       "text": [
        "physical_quantity            power\n",
        "type                      apparent\n",
        "2013-02-27 20:35:14+00:00        5\n",
        "2013-02-27 20:35:20+00:00        4\n",
        "2013-02-27 20:35:26+00:00        5\n",
        "2013-02-27 20:35:32+00:00        5\n",
        "2013-02-27 20:35:38+00:00        4"
       ]
      }
     ],
     "prompt_number": 4
    },
    {
     "cell_type": "code",
     "collapsed": false,
     "input": [
      "df.describe()"
     ],
     "language": "python",
     "metadata": {},
     "outputs": [
      {
       "html": [
        "<div style=\"max-height:1000px;max-width:1500px;overflow:auto;\">\n",
        "<table border=\"1\" class=\"dataframe\">\n",
        "  <thead>\n",
        "    <tr>\n",
        "      <th></th>\n",
        "      <th>power</th>\n",
        "    </tr>\n",
        "    <tr>\n",
        "      <th></th>\n",
        "      <th>apparent</th>\n",
        "    </tr>\n",
        "  </thead>\n",
        "  <tbody>\n",
        "    <tr>\n",
        "      <th>count</th>\n",
        "      <td> 512327.000000</td>\n",
        "    </tr>\n",
        "    <tr>\n",
        "      <th>mean</th>\n",
        "      <td>    506.458568</td>\n",
        "    </tr>\n",
        "    <tr>\n",
        "      <th>std</th>\n",
        "      <td>    701.315827</td>\n",
        "    </tr>\n",
        "    <tr>\n",
        "      <th>min</th>\n",
        "      <td>      4.000000</td>\n",
        "    </tr>\n",
        "    <tr>\n",
        "      <th>25%</th>\n",
        "      <td>    167.000000</td>\n",
        "    </tr>\n",
        "    <tr>\n",
        "      <th>50%</th>\n",
        "      <td>    237.000000</td>\n",
        "    </tr>\n",
        "    <tr>\n",
        "      <th>75%</th>\n",
        "      <td>    476.000000</td>\n",
        "    </tr>\n",
        "    <tr>\n",
        "      <th>max</th>\n",
        "      <td>   4090.000000</td>\n",
        "    </tr>\n",
        "  </tbody>\n",
        "</table>\n",
        "</div>"
       ],
       "metadata": {},
       "output_type": "pyout",
       "prompt_number": 5,
       "text": [
        "               power\n",
        "            apparent\n",
        "count  512327.000000\n",
        "mean      506.458568\n",
        "std       701.315827\n",
        "min         4.000000\n",
        "25%       167.000000\n",
        "50%       237.000000\n",
        "75%       476.000000\n",
        "max      4090.000000"
       ]
      }
     ],
     "prompt_number": 5
    },
    {
     "cell_type": "code",
     "collapsed": false,
     "input": [
      "%timeit store[key]"
     ],
     "language": "python",
     "metadata": {},
     "outputs": [
      {
       "output_type": "stream",
       "stream": "stdout",
       "text": [
        "10 loops, best of 3: 28.3 ms per loop\n"
       ]
      }
     ],
     "prompt_number": 6
    },
    {
     "cell_type": "code",
     "collapsed": false,
     "input": [
      "%timeit store.select(key)"
     ],
     "language": "python",
     "metadata": {},
     "outputs": [
      {
       "output_type": "stream",
       "stream": "stdout",
       "text": [
        "10 loops, best of 3: 28.5 ms per loop\n"
       ]
      }
     ],
     "prompt_number": 7
    },
    {
     "cell_type": "code",
     "collapsed": false,
     "input": [
      "%timeit store.select(key, cols=[('power', 'apparent')])"
     ],
     "language": "python",
     "metadata": {},
     "outputs": [
      {
       "output_type": "stream",
       "stream": "stdout",
       "text": [
        "10 loops, best of 3: 28.2 ms per loop\n"
       ]
      }
     ],
     "prompt_number": 8
    },
    {
     "cell_type": "code",
     "collapsed": false,
     "input": [
      "%timeit store.select(key, cols=None)"
     ],
     "language": "python",
     "metadata": {},
     "outputs": [
      {
       "output_type": "stream",
       "stream": "stdout",
       "text": [
        "10 loops, best of 3: 28.1 ms per loop\n"
       ]
      }
     ],
     "prompt_number": 9
    },
    {
     "cell_type": "code",
     "collapsed": false,
     "input": [
      "%%time\n",
      "generator = store.select(key, chunksize=1e7)\n",
      "for chunk in generator:\n",
      "    pass"
     ],
     "language": "python",
     "metadata": {},
     "outputs": [
      {
       "output_type": "stream",
       "stream": "stdout",
       "text": [
        "CPU times: user 6.74 s, sys: 37.3 ms, total: 6.78 s\n",
        "Wall time: 6.78 s\n"
       ]
      }
     ],
     "prompt_number": 10
    },
    {
     "cell_type": "code",
     "collapsed": false,
     "input": [
      "%%time\n",
      "coords = store.select_as_coordinates(key=key, where=[\"index > df.index[100]\", \"index < df.index[200]\"])"
     ],
     "language": "python",
     "metadata": {},
     "outputs": [
      {
       "output_type": "stream",
       "stream": "stdout",
       "text": [
        "CPU times: user 5.08 ms, sys: 61 \u00b5s, total: 5.14 ms\n",
        "Wall time: 4.37 ms\n"
       ]
      }
     ],
     "prompt_number": 18
    },
    {
     "cell_type": "code",
     "collapsed": false,
     "input": [
      "coords"
     ],
     "language": "python",
     "metadata": {},
     "outputs": [
      {
       "metadata": {},
       "output_type": "pyout",
       "prompt_number": 19,
       "text": [
        "Int64Index([101, 102, 103, 104, 105, 106, 107, 108, 109, 110, 111, 112, 113, 114, 115, 116, 117, 118, 119, 120, 121, 122, 123, 124, 125, 126, 127, 128, 129, 130, 131, 132, 133, 134, 135, 136, 137, 138, 139, 140, 141, 142, 143, 144, 145, 146, 147, 148, 149, 150, 151, 152, 153, 154, 155, 156, 157, 158, 159, 160, 161, 162, 163, 164, 165, 166, 167, 168, 169, 170, 171, 172, 173, 174, 175, 176, 177, 178, 179, 180, 181, 182, 183, 184, 185, 186, 187, 188, 189, 190, 191, 192, 193, 194, 195, 196, 197, 198, 199], dtype='int64')"
       ]
      }
     ],
     "prompt_number": 19
    },
    {
     "cell_type": "code",
     "collapsed": false,
     "input": [
      "%%timeit\n",
      "store.select(key=key, where=coords)"
     ],
     "language": "python",
     "metadata": {},
     "outputs": [
      {
       "output_type": "stream",
       "stream": "stdout",
       "text": [
        "100 loops, best of 3: 1.79 ms per loop\n"
       ]
      }
     ],
     "prompt_number": 20
    },
    {
     "cell_type": "code",
     "collapsed": false,
     "input": [
      "n_coords = len(coords)\n",
      "chunksize = 10\n",
      "for subchunk_i, coords_slice in enumerate(xrange(0, n_coords, chunksize)):\n",
      "    print(subchunk_i)\n",
      "    coords_for_chunk = coords[coords_slice:coords_slice+chunksize]\n",
      "    print(coords_for_chunk)\n",
      "    data = store.select(key=key, cols=None, where=coords_for_chunk)\n",
      "    print(data.iloc[0])"
     ],
     "language": "python",
     "metadata": {},
     "outputs": [
      {
       "output_type": "stream",
       "stream": "stdout",
       "text": [
        "0\n",
        "Int64Index([101, 102, 103, 104, 105, 106, 107, 108, 109, 110], dtype='int64')\n",
        "physical_quantity  type    \n",
        "power              apparent    5\n",
        "Name: 2013-02-27 20:45:31+00:00, dtype: float32\n",
        "1\n",
        "Int64Index([111, 112, 113, 114, 115, 116, 117, 118, 119, 120], dtype='int64')\n",
        "physical_quantity  type    \n",
        "power              apparent    4\n",
        "Name: 2013-02-27 20:46:33+00:00, dtype: float32\n",
        "2\n",
        "Int64Index([121, 122, 123, 124, 125, 126, 127, 128, 129, 130], dtype='int64')\n",
        "physical_quantity  type    \n",
        "power              apparent    4\n",
        "Name: 2013-02-27 20:47:33+00:00, dtype: float32\n",
        "3\n",
        "Int64Index([131, 132, 133, 134, 135, 136, 137, 138, 139, 140], dtype='int64')\n",
        "physical_quantity  type    \n",
        "power              apparent    4\n",
        "Name: 2013-02-27 20:48:35+00:00, dtype: float32\n",
        "4\n",
        "Int64Index([141, 142, 143, 144, 145, 146, 147, 148, 149, 150], dtype='int64')\n",
        "physical_quantity  type    \n",
        "power              apparent    4\n",
        "Name: 2013-02-27 20:49:36+00:00, dtype: float32\n",
        "5\n",
        "Int64Index([151, 152, 153, 154, 155, 156, 157, 158, 159, 160], dtype='int64')\n",
        "physical_quantity  type    \n",
        "power              apparent    4\n",
        "Name: 2013-02-27 20:50:37+00:00, dtype: float32\n",
        "6\n",
        "Int64Index([161, 162, 163, 164, 165, 166, 167, 168, 169, 170], dtype='int64')\n",
        "physical_quantity  type    \n",
        "power              apparent    4\n",
        "Name: 2013-02-27 20:51:38+00:00, dtype: float32\n",
        "7\n",
        "Int64Index([171, 172, 173, 174, 175, 176, 177, 178, 179, 180], dtype='int64')\n",
        "physical_quantity  type    \n",
        "power              apparent    4\n",
        "Name: 2013-02-27 20:52:39+00:00, dtype: float32\n",
        "8\n",
        "Int64Index([181, 182, 183, 184, 185, 186, 187, 188, 189, 190], dtype='int64')"
       ]
      },
      {
       "output_type": "stream",
       "stream": "stdout",
       "text": [
        "\n",
        "physical_quantity  type    \n",
        "power              apparent    4\n",
        "Name: 2013-02-27 20:53:40+00:00, dtype: float32\n",
        "9\n",
        "Int64Index([191, 192, 193, 194, 195, 196, 197, 198, 199], dtype='int64')\n",
        "physical_quantity  type    \n",
        "power              apparent    5\n",
        "Name: 2013-02-27 20:54:41+00:00, dtype: float32\n"
       ]
      }
     ],
     "prompt_number": 36
    },
    {
     "cell_type": "code",
     "collapsed": false,
     "input": [
      "from nilmtk import TimeFrame\n",
      "elec = dataset.buildings[1].elec\n",
      "dataset.store.window = TimeFrame(start='2014-11-09 06:24:33.500000+01:00', \n",
      "                                end='2014-11-16 06:24:33.500000+00:00')"
     ],
     "language": "python",
     "metadata": {},
     "outputs": [],
     "prompt_number": 7
    },
    {
     "cell_type": "code",
     "collapsed": false,
     "input": [
      "%prun elec.proportion_of_energy_submetered()"
     ],
     "language": "python",
     "metadata": {},
     "outputs": [
      {
       "output_type": "stream",
       "stream": "stdout",
       "text": [
        "Getting total energy for ('computer monitor', 1)\n",
        "  total energy = Series([], dtype: float64)\n",
        "Getting total energy for ('broadband router', 1)\n",
        "  total energy ="
       ]
      },
      {
       "output_type": "stream",
       "stream": "stdout",
       "text": [
        " active    0.96748\n",
        "dtype: float64\n",
        "Getting total energy for ('mobile phone charger', 2), ('baby monitor', 2), ('radio', 3)\n",
        "  total energy ="
       ]
      },
      {
       "output_type": "stream",
       "stream": "stdout",
       "text": [
        " active    0.151026\n",
        "dtype: float64\n",
        "Getting total energy for ('soldering iron', 1)\n",
        "  total energy ="
       ]
      },
      {
       "output_type": "stream",
       "stream": "stdout",
       "text": [
        " Series([], dtype: float64)\n",
        "Getting total energy for ('oven', 1)\n",
        "  total energy ="
       ]
      },
      {
       "output_type": "stream",
       "stream": "stdout",
       "text": [
        " active    0.529546\n",
        "dtype: float64\n",
        "Getting total energy for ('light', 5)\n",
        "  total energy = Series([], dtype: float64)\n",
        "Getting total energy for ('television', 1)\n",
        "  total energy ="
       ]
      },
      {
       "output_type": "stream",
       "stream": "stdout",
       "text": [
        " active    2.879305\n",
        "dtype: float64\n",
        "Getting total energy for ('light', 11)\n",
        "  total energy ="
       ]
      },
      {
       "output_type": "stream",
       "stream": "stdout",
       "text": [
        " active    0.004547\n",
        "dtype: float64\n",
        "Getting total energy for ('TOASTER', 1), ('kitchen aid', 1), ('food processor', 2)\n",
        "  total energy ="
       ]
      },
      {
       "output_type": "stream",
       "stream": "stdout",
       "text": [
        " active    2.647495\n",
        "dtype: float64\n",
        "Getting total energy for ('light', 13)\n",
        "  total energy ="
       ]
      },
      {
       "output_type": "stream",
       "stream": "stdout",
       "text": [
        " active    0.096921\n",
        "dtype: float64\n",
        "Getting total energy for ('light', 8)\n",
        "  total energy ="
       ]
      },
      {
       "output_type": "stream",
       "stream": "stdout",
       "text": [
        " active    1.094753\n",
        "dtype: float64\n",
        "Getting total energy for ('microwave', 1)\n",
        "  total energy ="
       ]
      },
      {
       "output_type": "stream",
       "stream": "stdout",
       "text": [
        " active    3.367786\n",
        "dtype: float64\n",
        "Getting total energy for ('light', 10)\n",
        "  total energy = Series([], dtype: float64)\n",
        "Getting total energy for ('audio amplifier', 1)\n",
        "  total energy ="
       ]
      },
      {
       "output_type": "stream",
       "stream": "stdout",
       "text": [
        " active    0.733386\n",
        "dtype: float64\n",
        "Getting total energy for ('radio', 2)\n",
        "  total energy ="
       ]
      },
      {
       "output_type": "stream",
       "stream": "stdout",
       "text": [
        " active    0.14945\n",
        "dtype: float64\n",
        "Getting total energy for ('clothes iron', 1)\n",
        "  total energy = Series([], dtype: float64)\n",
        "Getting total energy for ('dish washer', 1)\n",
        "  total energy ="
       ]
      },
      {
       "output_type": "stream",
       "stream": "stdout",
       "text": [
        " active    2.37628\n",
        "dtype: float64\n",
        "Getting total energy for ('KETTLE', 1), ('food processor', 1), ('toasted sandwich maker', 1)\n",
        "  total energy ="
       ]
      },
      {
       "output_type": "stream",
       "stream": "stdout",
       "text": [
        " active    3.212869\n",
        "dtype: float64\n",
        "Getting total energy for ('radio', 1)\n",
        "  total energy ="
       ]
      },
      {
       "output_type": "stream",
       "stream": "stdout",
       "text": [
        " Series([], dtype: float64)\n",
        "Getting total energy for ('fridge freezer', 1)\n",
        "  total energy ="
       ]
      },
      {
       "output_type": "stream",
       "stream": "stdout",
       "text": [
        " active    7.213786\n",
        "dtype: float64\n",
        "Getting total energy for ('mobile phone charger', 1)\n",
        "  total energy ="
       ]
      },
      {
       "output_type": "stream",
       "stream": "stdout",
       "text": [
        " active    0.049606\n",
        "dtype: float64\n",
        "Getting total energy for ('breadmaker', 1)\n",
        "  total energy ="
       ]
      },
      {
       "output_type": "stream",
       "stream": "stdout",
       "text": [
        " active    0\n",
        "dtype: float64\n",
        "Getting total energy for ('coffee maker', 1)\n",
        "  total energy ="
       ]
      },
      {
       "output_type": "stream",
       "stream": "stdout",
       "text": [
        " active    0.066523\n",
        "dtype: float64\n",
        "Getting total energy for ('solar thermal pumping station', 1)\n",
        "  total energy ="
       ]
      },
      {
       "output_type": "stream",
       "stream": "stdout",
       "text": [
        " apparent    0.98232\n",
        "dtype: float64\n",
        "Getting total energy for ('hair straighteners', 1)\n",
        "  total energy = Series([], dtype: float64)\n",
        "Getting total energy for ('light', 4)\n",
        "  total energy ="
       ]
      },
      {
       "output_type": "stream",
       "stream": "stdout",
       "text": [
        " active    0.497845\n",
        "dtype: float64\n",
        "Getting total energy for ('washer dryer', 1)\n",
        "  total energy ="
       ]
      },
      {
       "output_type": "stream",
       "stream": "stdout",
       "text": [
        " active    7.68722\n",
        "dtype: float64\n",
        "Getting total energy for ('tablet computer charger', 1)\n",
        "  total energy ="
       ]
      },
      {
       "output_type": "stream",
       "stream": "stdout",
       "text": [
        " active    0.038072\n",
        "dtype: float64\n",
        "Getting total energy for ('HTPC', 1)\n",
        "  total energy ="
       ]
      },
      {
       "output_type": "stream",
       "stream": "stdout",
       "text": [
        " active    3.447406\n",
        "dtype: float64\n",
        "Getting total energy for ('charger', 1)\n",
        "  total energy ="
       ]
      },
      {
       "output_type": "stream",
       "stream": "stdout",
       "text": [
        " active    0\n",
        "dtype: float64\n",
        "Getting total energy for ('light', 7)\n",
        "  total energy ="
       ]
      },
      {
       "output_type": "stream",
       "stream": "stdout",
       "text": [
        " active    0.381906\n",
        "dtype: float64\n",
        "Getting total energy for ('desktop computer', 1)\n",
        "  total energy = Series([], dtype: float64)\n",
        "Getting total energy for ('light', 9)\n",
        "  total energy ="
       ]
      },
      {
       "output_type": "stream",
       "stream": "stdout",
       "text": [
        " active    0.077211\n",
        "dtype: float64\n",
        "Getting total energy for ('printer', 1)\n",
        "  total energy = Series([], dtype: float64)\n",
        "Getting total energy for ('boiler', 1)\n",
        "  total energy ="
       ]
      },
      {
       "output_type": "stream",
       "stream": "stdout",
       "text": [
        " apparent    3.560768\n",
        "dtype: float64\n",
        "Getting total energy for ('vacuum cleaner', 1)\n",
        "  total energy = Series([], dtype: float64)\n",
        "Getting total energy for ('laptop computer', 1), ('laptop computer', 3)\n",
        "  total energy ="
       ]
      },
      {
       "output_type": "stream",
       "stream": "stdout",
       "text": [
        " Series([], dtype: float64)\n",
        "Getting total energy for ('light', 6)\n",
        "  total energy ="
       ]
      },
      {
       "output_type": "stream",
       "stream": "stdout",
       "text": [
        " active    0.180044\n",
        "dtype: float64\n",
        "Getting total energy for ('baby monitor', 1)\n",
        "  total energy ="
       ]
      },
      {
       "output_type": "stream",
       "stream": "stdout",
       "text": [
        " active    0\n",
        "dtype: float64\n",
        "Getting total energy for ('active subwoofer', 1)\n",
        "  total energy ="
       ]
      },
      {
       "output_type": "stream",
       "stream": "stdout",
       "text": [
        " active    0.566255\n",
        "dtype: float64\n",
        "Getting total energy for ('light', 15)\n",
        "  total energy = Series([], dtype: float64)\n",
        "Getting total energy for ('wireless phone charger', 1), ('audio system', 2)\n",
        "  total energy ="
       ]
      },
      {
       "output_type": "stream",
       "stream": "stdout",
       "text": [
        " active    1.402742\n",
        "dtype: float64\n",
        "Getting total energy for ('audio system', 1)\n",
        "  total energy = Series([], dtype: float64)\n",
        "Getting total energy for ('fan', 1)\n",
        "  total energy ="
       ]
      },
      {
       "output_type": "stream",
       "stream": "stdout",
       "text": [
        " Series([], dtype: float64)\n",
        "Getting total energy for ('light', 3)\n",
        "  total energy ="
       ]
      },
      {
       "output_type": "stream",
       "stream": "stdout",
       "text": [
        " active    0.60588\n",
        "dtype: float64\n",
        "Getting total energy for ('hair dryer', 1)\n",
        "  total energy = Series([], dtype: float64)\n",
        "Getting total energy for ('ethernet switch', 1), ('USB hub', 1)\n",
        "  total energy ="
       ]
      },
      {
       "output_type": "stream",
       "stream": "stdout",
       "text": [
        " Series([], dtype: float64)\n",
        "Getting total energy for ('COMPUTER', 1), ('external hard disk', 1)\n",
        "  total energy ="
       ]
      },
      {
       "output_type": "stream",
       "stream": "stdout",
       "text": [
        " active    2.131033\n",
        "dtype: float64\n",
        "Getting total energy for ('light', 16)\n",
        "  total energy ="
       ]
      },
      {
       "output_type": "stream",
       "stream": "stdout",
       "text": [
        " apparent    6.885924\n",
        "dtype: float64\n",
        "Getting total energy for ('light', 12)\n",
        "  total energy ="
       ]
      },
      {
       "output_type": "stream",
       "stream": "stdout",
       "text": [
        " active    0.03303\n",
        "dtype: float64\n",
        "Getting total energy for ('light', 14)\n",
        "  total energy ="
       ]
      },
      {
       "output_type": "stream",
       "stream": "stdout",
       "text": [
        " active    0.079838\n",
        "dtype: float64\n",
        "Using AC type 'apparent' from mains."
       ]
      },
      {
       "output_type": "stream",
       "stream": "stdout",
       "text": [
        "\n"
       ]
      },
      {
       "output_type": "stream",
       "stream": "stdout",
       "text": [
        " "
       ]
      }
     ],
     "prompt_number": 8
    },
    {
     "cell_type": "code",
     "collapsed": false,
     "input": [
      "range(0, 5, 7)"
     ],
     "language": "python",
     "metadata": {},
     "outputs": [
      {
       "metadata": {},
       "output_type": "pyout",
       "prompt_number": 58,
       "text": [
        "[0]"
       ]
      }
     ],
     "prompt_number": 58
    },
    {
     "cell_type": "code",
     "collapsed": false,
     "input": [
      "%time\n",
      "selection = store.select(key=key, start=10, stop=10000)"
     ],
     "language": "python",
     "metadata": {},
     "outputs": [
      {
       "output_type": "stream",
       "stream": "stdout",
       "text": [
        "CPU times: user 9 \u00b5s, sys: 0 ns, total: 9 \u00b5s\n",
        "Wall time: 5.96 \u00b5s\n"
       ]
      }
     ],
     "prompt_number": 62
    },
    {
     "cell_type": "code",
     "collapsed": false,
     "input": [
      "man_coords = range(10, 10000)\n",
      "%time selection = store.select(key=key, where=man_coords)"
     ],
     "language": "python",
     "metadata": {},
     "outputs": [
      {
       "output_type": "stream",
       "stream": "stdout",
       "text": [
        "CPU times: user 286 ms, sys: 4 ms, total: 290 ms\n",
        "Wall time: 286 ms\n"
       ]
      }
     ],
     "prompt_number": 64
    },
    {
     "cell_type": "code",
     "collapsed": false,
     "input": [
      "selection = store.select(key=key, start=len(df)-100, stop=len(df)+50000)"
     ],
     "language": "python",
     "metadata": {},
     "outputs": [],
     "prompt_number": 87
    },
    {
     "cell_type": "code",
     "collapsed": false,
     "input": [
      "len(selection)"
     ],
     "language": "python",
     "metadata": {},
     "outputs": [
      {
       "metadata": {},
       "output_type": "pyout",
       "prompt_number": 88,
       "text": [
        "100"
       ]
      }
     ],
     "prompt_number": 88
    },
    {
     "cell_type": "code",
     "collapsed": false,
     "input": [
      "len(df)"
     ],
     "language": "python",
     "metadata": {},
     "outputs": [
      {
       "metadata": {},
       "output_type": "pyout",
       "prompt_number": 70,
       "text": [
        "512327"
       ]
      }
     ],
     "prompt_number": 70
    },
    {
     "cell_type": "code",
     "collapsed": false,
     "input": [
      "%%timeit\n",
      "coords = store.select_as_coordinates(key=key, where=[\"index > df.index[100]\", \"index < df.index[-1]\"])"
     ],
     "language": "python",
     "metadata": {},
     "outputs": [
      {
       "output_type": "stream",
       "stream": "stdout",
       "text": [
        "1 loops, best of 3: 320 ms per loop\n"
       ]
      }
     ],
     "prompt_number": 90
    },
    {
     "cell_type": "code",
     "collapsed": false,
     "input": [
      "%%time\n",
      "coords = store.select_as_coordinates(key=key, where=[\"index > df.index[100]\", \"index < df.index[102]\"])\n",
      "print(coords)"
     ],
     "language": "python",
     "metadata": {},
     "outputs": [
      {
       "output_type": "stream",
       "stream": "stdout",
       "text": [
        "Int64Index([101], dtype='int64')\n",
        "CPU times: user 4.52 ms, sys: 3 \u00b5s, total: 4.52 ms\n",
        "Wall time: 3.91 ms\n"
       ]
      }
     ],
     "prompt_number": 96
    },
    {
     "cell_type": "code",
     "collapsed": false,
     "input": [
      "coords"
     ],
     "language": "python",
     "metadata": {},
     "outputs": [
      {
       "metadata": {},
       "output_type": "pyout",
       "prompt_number": 95,
       "text": [
        "Int64Index([101, 102, 103, 104, 105, 106, 107, 108, 109, 110, 111, 112, 113, 114, 115, 116, 117, 118, 119, 120, 121, 122, 123, 124, 125, 126, 127, 128, 129, 130, 131, 132, 133, 134, 135, 136, 137, 138, 139, 140, 141, 142, 143, 144, 145, 146, 147, 148, 149, 150, 151, 152, 153, 154, 155, 156, 157, 158, 159, 160, 161, 162, 163, 164, 165, 166, 167, 168, 169, 170, 171, 172, 173, 174, 175, 176, 177, 178, 179, 180, 181, 182, 183, 184, 185, 186, 187, 188, 189, 190, 191, 192, 193, 194, 195, 196, 197, 198, 199], dtype='int64')"
       ]
      }
     ],
     "prompt_number": 95
    },
    {
     "cell_type": "code",
     "collapsed": false,
     "input": [
      "store.select_as_coordinates?"
     ],
     "language": "python",
     "metadata": {},
     "outputs": [],
     "prompt_number": 97
    },
    {
     "cell_type": "code",
     "collapsed": false,
     "input": [
      "%%time\n",
      "stepsize = 100000\n",
      "for i in range(0, len(df), stepsize):\n",
      "    coords = store.select_as_coordinates(key=key, where=[\"index > df.index[200000]\"], start=i, stop=i+stepsize)\n",
      "    if len(coords) > 0:\n",
      "        index = coords[0]\n",
      "        break"
     ],
     "language": "python",
     "metadata": {},
     "outputs": [
      {
       "output_type": "stream",
       "stream": "stdout",
       "text": [
        "CPU times: user 124 ms, sys: 0 ns, total: 124 ms\n",
        "Wall time: 122 ms\n"
       ]
      }
     ],
     "prompt_number": 125
    },
    {
     "cell_type": "code",
     "collapsed": false,
     "input": [
      "def index_of_first_row_after_time(timestamp, length):\n",
      "    for i in range(0, length, 100000):\n",
      "        coords = store.select_as_coordinates(key=key, where=[\"index > df.index[200000]\"], start=i, stop=i+100000)\n",
      "        if len(coords) > 0:\n",
      "            index = coords[0]\n",
      "            break    "
     ],
     "language": "python",
     "metadata": {},
     "outputs": []
    },
    {
     "cell_type": "code",
     "collapsed": false,
     "input": [
      "%%timeit\n",
      "coords = store.select_as_coordinates(key=key, where=[\"index > df.index[300000]\", \"index < df.index[300005]\"])[0]"
     ],
     "language": "python",
     "metadata": {},
     "outputs": [
      {
       "output_type": "stream",
       "stream": "stdout",
       "text": [
        "100 loops, best of 3: 2.48 ms per loop\n"
       ]
      }
     ],
     "prompt_number": 135
    },
    {
     "cell_type": "code",
     "collapsed": false,
     "input": [
      "df.index[30000]"
     ],
     "language": "python",
     "metadata": {},
     "outputs": [
      {
       "metadata": {},
       "output_type": "pyout",
       "prompt_number": 136,
       "text": [
        "Timestamp('2013-03-02 00:05:50+0000', tz='Europe/London')"
       ]
      }
     ],
     "prompt_number": 136
    },
    {
     "cell_type": "code",
     "collapsed": false,
     "input": [
      "%%timeit\n",
      "storer.read_coordinates(where=[\"index > '2013-03-02 00:05:50+0000'\", \"index < '2013-03-02 00:55:50+0000'\"])"
     ],
     "language": "python",
     "metadata": {},
     "outputs": [
      {
       "output_type": "stream",
       "stream": "stdout",
       "text": [
        "1000 loops, best of 3: 1.62 ms per loop\n"
       ]
      }
     ],
     "prompt_number": 137
    },
    {
     "cell_type": "code",
     "collapsed": false,
     "input": [
      "%%time\n",
      "for row in storer.table.iterrows():\n",
      "    if row[0] > 1362627001000000000:\n",
      "        break"
     ],
     "language": "python",
     "metadata": {},
     "outputs": [
      {
       "output_type": "stream",
       "stream": "stdout",
       "text": [
        "CPU times: user 23.1 ms, sys: 0 ns, total: 23.1 ms\n",
        "Wall time: 22.3 ms\n"
       ]
      }
     ],
     "prompt_number": 155
    },
    {
     "cell_type": "code",
     "collapsed": false,
     "input": [
      "for row in storer.table.itersorted(sortby='index'):\n",
      "    pass"
     ],
     "language": "python",
     "metadata": {},
     "outputs": [],
     "prompt_number": 152
    },
    {
     "cell_type": "code",
     "collapsed": false,
     "input": [
      "%%time\n",
      "storer.table.get_where_list(condition=\"(1362527001000000000 < index) & (index < 1362627001000000000)\", condvars=[])"
     ],
     "language": "python",
     "metadata": {},
     "outputs": [
      {
       "output_type": "stream",
       "stream": "stdout",
       "text": [
        "CPU times: user 37.6 ms, sys: 10 \u00b5s, total: 37.6 ms\n",
        "Wall time: 34.3 ms\n"
       ]
      },
      {
       "metadata": {},
       "output_type": "pyout",
       "prompt_number": 196,
       "text": [
        "array([83630, 83631, 83632, ..., 99997, 99998, 99999])"
       ]
      }
     ],
     "prompt_number": 196
    },
    {
     "cell_type": "code",
     "collapsed": false,
     "input": [
      "%%timeit\n",
      "storer.read_coordinates(where=[\"index > '2013-03-02 00:05:50+0000'\"])"
     ],
     "language": "python",
     "metadata": {},
     "outputs": [
      {
       "output_type": "stream",
       "stream": "stdout",
       "text": [
        "1 loops, best of 3: 317 ms per loop\n"
       ]
      }
     ],
     "prompt_number": 169
    },
    {
     "cell_type": "code",
     "collapsed": false,
     "input": [
      "%%time\n",
      "where = storer.table._where(condition=\"1362527001000000000 < index\", condvars=[])\n",
      "start_row = where.next().nrow\n",
      "end_row = storer.table.get_where_list(condition=\"1362627001000000000 > index\", condvars=[], start=start_row)[-1]"
     ],
     "language": "python",
     "metadata": {},
     "outputs": [
      {
       "output_type": "stream",
       "stream": "stdout",
       "text": [
        "CPU times: user 43.3 ms, sys: 3.97 ms, total: 47.3 ms\n",
        "Wall time: 46.7 ms\n"
       ]
      }
     ],
     "prompt_number": 189
    },
    {
     "cell_type": "code",
     "collapsed": false,
     "input": [
      "%%time\n",
      "storer.table.get_where_list(condition=\"(1362627001000000000 > index) & (1362527001000000000 < index)\", condvars=[])"
     ],
     "language": "python",
     "metadata": {},
     "outputs": [
      {
       "output_type": "stream",
       "stream": "stdout",
       "text": [
        "CPU times: user 14.6 ms, sys: 0 ns, total: 14.6 ms\n",
        "Wall time: 12.8 ms\n"
       ]
      },
      {
       "metadata": {},
       "output_type": "pyout",
       "prompt_number": 190,
       "text": [
        "array([83630, 83631, 83632, ..., 99997, 99998, 99999])"
       ]
      }
     ],
     "prompt_number": 190
    },
    {
     "cell_type": "code",
     "collapsed": false,
     "input": [
      "start_dt = df.index[100000]\n",
      "stop_dt  = df.index[500000]"
     ],
     "language": "python",
     "metadata": {},
     "outputs": [],
     "prompt_number": 214
    },
    {
     "cell_type": "code",
     "collapsed": false,
     "input": [
      "start_int = start_dt.asm8.astype(int)\n",
      "stop_int  = stop_dt.asm8.astype(int)"
     ],
     "language": "python",
     "metadata": {},
     "outputs": [],
     "prompt_number": 215
    },
    {
     "cell_type": "code",
     "collapsed": false,
     "input": [
      "%%time\n",
      "coords = store.select_as_coordinates(key=key, where=[\"index > start_dt\", \"index < stop_dt\"])"
     ],
     "language": "python",
     "metadata": {},
     "outputs": [
      {
       "output_type": "stream",
       "stream": "stdout",
       "text": [
        "CPU times: user 263 ms, sys: 20 \u00b5s, total: 263 ms\n",
        "Wall time: 260 ms\n"
       ]
      }
     ],
     "prompt_number": 216
    },
    {
     "cell_type": "code",
     "collapsed": false,
     "input": [
      "%%time\n",
      "coords = storer.table.get_where_list(condition=\"(index > start_int) & (index < stop_int)\", \n",
      "                                     condvars={'start_int': start_int, 'stop_int': stop_int})"
     ],
     "language": "python",
     "metadata": {},
     "outputs": [
      {
       "output_type": "stream",
       "stream": "stdout",
       "text": [
        "CPU times: user 259 ms, sys: 0 ns, total: 259 ms\n",
        "Wall time: 256 ms\n"
       ]
      }
     ],
     "prompt_number": 217
    },
    {
     "cell_type": "code",
     "collapsed": false,
     "input": [
      "%%time\n",
      "coords = storer.table.get_where_list(condition=\"(index > {start_int}) & (index < {stop_int})\" \n",
      "                                     .format(start_int=start_int, stop_int=stop_int))"
     ],
     "language": "python",
     "metadata": {},
     "outputs": [
      {
       "output_type": "stream",
       "stream": "stdout",
       "text": [
        "CPU times: user 239 ms, sys: 3.97 ms, total: 243 ms\n",
        "Wall time: 242 ms\n"
       ]
      }
     ],
     "prompt_number": 218
    },
    {
     "cell_type": "code",
     "collapsed": false,
     "input": [
      "store.select(key=key, where=[0])"
     ],
     "language": "python",
     "metadata": {},
     "outputs": [
      {
       "html": [
        "<div style=\"max-height:1000px;max-width:1500px;overflow:auto;\">\n",
        "<table border=\"1\" class=\"dataframe\">\n",
        "  <thead>\n",
        "    <tr>\n",
        "      <th>physical_quantity</th>\n",
        "      <th>power</th>\n",
        "    </tr>\n",
        "    <tr>\n",
        "      <th>type</th>\n",
        "      <th>apparent</th>\n",
        "    </tr>\n",
        "  </thead>\n",
        "  <tbody>\n",
        "    <tr>\n",
        "      <th>2013-02-27 20:35:14+00:00</th>\n",
        "      <td> 5</td>\n",
        "    </tr>\n",
        "  </tbody>\n",
        "</table>\n",
        "</div>"
       ],
       "metadata": {},
       "output_type": "pyout",
       "prompt_number": 248,
       "text": [
        "physical_quantity            power\n",
        "type                      apparent\n",
        "2013-02-27 20:35:14+00:00        5"
       ]
      }
     ],
     "prompt_number": 248
    },
    {
     "cell_type": "code",
     "collapsed": false,
     "input": [
      "# next thing to try: build a day-by-day cache and use that ;)\n",
      "def create_day_index(key):\n",
      "    first_day = store.select(key=key, where=[0]).index[0].date()\n",
      "    storer = store.get_storer(key=key)\n",
      "    nrows = storer.nrows\n",
      "    last_day = store.select(key=key, where=[nrows-1]).index[0].date()\n",
      "    print(\"first day\", first_day, \";  last day\", last_day)\n",
      "    days = pd.date_range(start=first_day, end=last_day, freq='D')\n",
      "    day_start_indicies = pd.Series(index=days)\n",
      "    previous_index = 0\n",
      "    for day in days:\n",
      "        next_day = day + timedelta(days=1)\n",
      "        coords = store.select_as_coordinates(key=key, \n",
      "                                             where=[\"index >= day\", \"index < next_day\"], \n",
      "                                             start=previous_index)\n",
      "        if len(coords) == 0:\n",
      "            continue\n",
      "        start_index = coords[0]\n",
      "        day_start_indicies[day] = start_index\n",
      "        previous_index = coords[-1]\n",
      "        \n",
      "    return day_start_indicies.dropna()"
     ],
     "language": "python",
     "metadata": {},
     "outputs": [],
     "prompt_number": 51
    },
    {
     "cell_type": "code",
     "collapsed": false,
     "input": [
      "%%time\n",
      "day_index = create_day_index('building1/elec/meter1')"
     ],
     "language": "python",
     "metadata": {},
     "outputs": [
      {
       "output_type": "stream",
       "stream": "stdout",
       "text": [
        "first day 2012-11-09 ;  last day 2014-11-16\n",
        "CPU times: user 25.7 s, sys: 765 ms, total: 26.5 s"
       ]
      },
      {
       "output_type": "stream",
       "stream": "stdout",
       "text": [
        "\n",
        "Wall time: 24.6 s\n"
       ]
      }
     ],
     "prompt_number": 52
    },
    {
     "cell_type": "code",
     "collapsed": false,
     "input": [
      "day_index"
     ],
     "language": "python",
     "metadata": {},
     "outputs": [
      {
       "metadata": {},
       "output_type": "pyout",
       "prompt_number": 54,
       "text": [
        "2012-11-09         0\n",
        "2012-11-10       794\n",
        "2012-11-11     13384\n",
        "2012-11-12     25995\n",
        "2012-11-13     37952\n",
        "2012-11-14     51349\n",
        "2012-11-15     64876\n",
        "2012-11-16     78364\n",
        "2012-11-17     88310\n",
        "2012-11-18    101706\n",
        "2012-11-19    106992\n",
        "2012-11-20    109277\n",
        "2012-11-21    118582\n",
        "2012-11-22    131965\n",
        "2012-11-23    145372\n",
        "...\n",
        "2014-11-02    9354383\n",
        "2014-11-03    9368178\n",
        "2014-11-04    9381618\n",
        "2014-11-05    9395219\n",
        "2014-11-06    9408921\n",
        "2014-11-07    9422343\n",
        "2014-11-08    9435881\n",
        "2014-11-09    9449734\n",
        "2014-11-10    9463198\n",
        "2014-11-11    9476765\n",
        "2014-11-12    9490398\n",
        "2014-11-13    9504239\n",
        "2014-11-14    9517839\n",
        "2014-11-15    9531522\n",
        "2014-11-16    9545266\n",
        "Length: 708"
       ]
      }
     ],
     "prompt_number": 54
    },
    {
     "cell_type": "code",
     "collapsed": false,
     "input": [
      "store.close()"
     ],
     "language": "python",
     "metadata": {},
     "outputs": [],
     "prompt_number": 307
    },
    {
     "cell_type": "code",
     "collapsed": false,
     "input": [
      "store = pd.HDFStore('/data/mine/vadeec/merged/ukdale.h5', 'a')"
     ],
     "language": "python",
     "metadata": {},
     "outputs": [],
     "prompt_number": 3
    },
    {
     "cell_type": "code",
     "collapsed": false,
     "input": [
      "keys = store.keys()"
     ],
     "language": "python",
     "metadata": {},
     "outputs": [],
     "prompt_number": 4
    },
    {
     "cell_type": "code",
     "collapsed": false,
     "input": [
      "keys[0]"
     ],
     "language": "python",
     "metadata": {},
     "outputs": [
      {
       "metadata": {},
       "output_type": "pyout",
       "prompt_number": 5,
       "text": [
        "'/building5/elec/meter1'"
       ]
      }
     ],
     "prompt_number": 5
    },
    {
     "cell_type": "code",
     "collapsed": false,
     "input": [
      "for k in keys:\n",
      "    if \"building1\" not in k:\n",
      "        continue\n",
      "    print(k)\n",
      "    stdout.flush()\n",
      "    day_index = create_day_index(k)\n",
      "    store.put(k + '_day_index', day_index)\n",
      "    print(\"   day_index start=\", day_index.index[0], \", end=\", day_index.index[-1], \", n days=\", len(day_index), sep=\"\")\n",
      "store.flush()"
     ],
     "language": "python",
     "metadata": {},
     "outputs": [
      {
       "output_type": "stream",
       "stream": "stdout",
       "text": [
        "/building1/elec/meter1\n"
       ]
      },
      {
       "output_type": "stream",
       "stream": "stdout",
       "text": [
        "first day 2012-11-09 ;  last day 2014-11-16\n",
        "   day_index start="
       ]
      },
      {
       "output_type": "stream",
       "stream": "stdout",
       "text": [
        "2012-11-09 00:00:00, end=2014-11-16 00:00:00, n days=708\n",
        "/building1/elec/meter10\n"
       ]
      },
      {
       "output_type": "stream",
       "stream": "stdout",
       "text": [
        "first day 2012-11-09 ;  last day 2014-11-16\n",
        "   day_index start="
       ]
      },
      {
       "output_type": "stream",
       "stream": "stdout",
       "text": [
        "2012-11-09 00:00:00, end=2014-11-16 00:00:00, n days=699\n",
        "/building1/elec/meter11\n"
       ]
      },
      {
       "output_type": "stream",
       "stream": "stdout",
       "text": [
        "first day 2012-12-14 ;  last day 2014-11-16\n",
        "   day_index start="
       ]
      },
      {
       "output_type": "stream",
       "stream": "stdout",
       "text": [
        "2012-12-14 00:00:00, end=2014-11-16 00:00:00, n days=692\n",
        "/building1/elec/meter12\n"
       ]
      },
      {
       "output_type": "stream",
       "stream": "stdout",
       "text": [
        "first day 2012-12-14 ;  last day 2014-11-16\n",
        "   day_index start="
       ]
      },
      {
       "output_type": "stream",
       "stream": "stdout",
       "text": [
        "2012-12-14 00:00:00, end=2014-11-16 00:00:00, n days=692\n",
        "/building1/elec/meter13\n"
       ]
      },
      {
       "output_type": "stream",
       "stream": "stdout",
       "text": [
        "first day 2012-12-14 ;  last day 2014-11-16\n",
        "   day_index start="
       ]
      },
      {
       "output_type": "stream",
       "stream": "stdout",
       "text": [
        "2012-12-14 00:00:00, end=2014-11-16 00:00:00, n days=692\n",
        "/building1/elec/meter14\n"
       ]
      },
      {
       "output_type": "stream",
       "stream": "stdout",
       "text": [
        "first day 2012-12-14 ;  last day 2014-11-14\n",
        "   day_index start="
       ]
      },
      {
       "output_type": "stream",
       "stream": "stdout",
       "text": [
        "2012-12-14 00:00:00, end=2014-11-14 00:00:00, n days=431\n",
        "/building1/elec/meter15\n"
       ]
      },
      {
       "output_type": "stream",
       "stream": "stdout",
       "text": [
        "first day 2012-12-14 ;  last day 2014-11-14\n",
        "   day_index start="
       ]
      },
      {
       "output_type": "stream",
       "stream": "stdout",
       "text": [
        "2012-12-14 00:00:00, end=2014-11-14 00:00:00, n days=431\n",
        "/building1/elec/meter16\n"
       ]
      },
      {
       "output_type": "stream",
       "stream": "stdout",
       "text": [
        "first day 2012-12-14 ;  last day 2014-11-16\n",
        "   day_index start="
       ]
      },
      {
       "output_type": "stream",
       "stream": "stdout",
       "text": [
        "2012-12-14 00:00:00, end=2014-11-16 00:00:00, n days=692\n",
        "/building1/elec/meter17\n"
       ]
      },
      {
       "output_type": "stream",
       "stream": "stdout",
       "text": [
        "first day 2012-12-14 ;  last day 2014-11-16\n",
        "   day_index start="
       ]
      },
      {
       "output_type": "stream",
       "stream": "stdout",
       "text": [
        "2012-12-14 00:00:00, end=2014-11-16 00:00:00, n days=692\n",
        "/building1/elec/meter18\n"
       ]
      },
      {
       "output_type": "stream",
       "stream": "stdout",
       "text": [
        "first day 2012-12-14 ;  last day 2014-11-16\n",
        "   day_index start="
       ]
      },
      {
       "output_type": "stream",
       "stream": "stdout",
       "text": [
        "2012-12-14 00:00:00, end=2014-11-16 00:00:00, n days=692\n",
        "/building1/elec/meter19\n"
       ]
      },
      {
       "output_type": "stream",
       "stream": "stdout",
       "text": [
        "first day 2013-02-12 ;  last day 2014-11-16\n",
        "   day_index start="
       ]
      },
      {
       "output_type": "stream",
       "stream": "stdout",
       "text": [
        "2013-02-12 00:00:00, end=2014-11-16 00:00:00, n days=643\n",
        "/building1/elec/meter2\n"
       ]
      },
      {
       "output_type": "stream",
       "stream": "stdout",
       "text": [
        "first day 2012-11-09 ;  last day 2014-11-16\n",
        "   day_index start="
       ]
      },
      {
       "output_type": "stream",
       "stream": "stdout",
       "text": [
        "2012-11-09 00:00:00, end=2014-11-16 00:00:00, n days=717\n",
        "/building1/elec/meter20\n"
       ]
      },
      {
       "output_type": "stream",
       "stream": "stdout",
       "text": [
        "first day 2013-02-12 ;  last day 2013-10-22\n",
        "   day_index start="
       ]
      },
      {
       "output_type": "stream",
       "stream": "stdout",
       "text": [
        "2013-02-12 00:00:00, end=2013-10-22 00:00:00, n days=143\n",
        "/building1/elec/meter21\n"
       ]
      },
      {
       "output_type": "stream",
       "stream": "stdout",
       "text": [
        "first day 2013-02-12 ;  last day 2014-11-14\n",
        "   day_index start="
       ]
      },
      {
       "output_type": "stream",
       "stream": "stdout",
       "text": [
        "2013-02-12 00:00:00, end=2014-11-14 00:00:00, n days=383\n",
        "/building1/elec/meter22\n"
       ]
      },
      {
       "output_type": "stream",
       "stream": "stdout",
       "text": [
        "first day 2013-02-14 ;  last day 2014-11-10\n",
        "   day_index start="
       ]
      },
      {
       "output_type": "stream",
       "stream": "stdout",
       "text": [
        "2013-02-14 00:00:00, end=2014-11-10 00:00:00, n days=115\n",
        "/building1/elec/meter23\n"
       ]
      },
      {
       "output_type": "stream",
       "stream": "stdout",
       "text": [
        "first day 2013-02-12 ;  last day 2014-11-16\n",
        "   day_index start="
       ]
      },
      {
       "output_type": "stream",
       "stream": "stdout",
       "text": [
        "2013-02-12 00:00:00, end=2014-11-16 00:00:00, n days=643\n",
        "/building1/elec/meter24\n"
       ]
      },
      {
       "output_type": "stream",
       "stream": "stdout",
       "text": [
        "first day 2013-02-12 ;  last day 2014-11-10\n",
        "   day_index start="
       ]
      },
      {
       "output_type": "stream",
       "stream": "stdout",
       "text": [
        "2013-02-12 00:00:00, end=2014-11-10 00:00:00, n days=523\n",
        "/building1/elec/meter25\n"
       ]
      },
      {
       "output_type": "stream",
       "stream": "stdout",
       "text": [
        "first day 2013-03-12 ;  last day 2014-11-16\n",
        "   day_index start="
       ]
      },
      {
       "output_type": "stream",
       "stream": "stdout",
       "text": [
        "2013-03-12 00:00:00, end=2014-11-16 00:00:00, n days=615\n",
        "/building1/elec/meter26\n"
       ]
      },
      {
       "output_type": "stream",
       "stream": "stdout",
       "text": [
        "first day 2013-03-12 ;  last day 2014-11-16\n",
        "   day_index start="
       ]
      },
      {
       "output_type": "stream",
       "stream": "stdout",
       "text": [
        "2013-03-12 00:00:00, end=2014-11-16 00:00:00, n days=615\n",
        "/building1/elec/meter27\n"
       ]
      },
      {
       "output_type": "stream",
       "stream": "stdout",
       "text": [
        "first day 2013-03-12 ;  last day 2014-11-16\n",
        "   day_index start="
       ]
      },
      {
       "output_type": "stream",
       "stream": "stdout",
       "text": [
        "2013-03-12 00:00:00, end=2014-11-16 00:00:00, n days=455\n",
        "/building1/elec/meter28\n"
       ]
      },
      {
       "output_type": "stream",
       "stream": "stdout",
       "text": [
        "first day 2013-03-12 ;  last day 2014-11-16\n",
        "   day_index start="
       ]
      },
      {
       "output_type": "stream",
       "stream": "stdout",
       "text": [
        "2013-03-12 00:00:00, end=2014-11-16 00:00:00, n days=615\n",
        "/building1/elec/meter29\n"
       ]
      },
      {
       "output_type": "stream",
       "stream": "stdout",
       "text": [
        "first day 2013-03-12 ;  last day 2014-11-16\n",
        "   day_index start="
       ]
      },
      {
       "output_type": "stream",
       "stream": "stdout",
       "text": [
        "2013-03-12 00:00:00, end=2014-11-16 00:00:00, n days=615\n",
        "/building1/elec/meter3\n"
       ]
      },
      {
       "output_type": "stream",
       "stream": "stdout",
       "text": [
        "first day 2012-11-09 ;  last day 2014-11-16\n",
        "   day_index start="
       ]
      },
      {
       "output_type": "stream",
       "stream": "stdout",
       "text": [
        "2012-11-09 00:00:00, end=2014-11-16 00:00:00, n days=717\n",
        "/building1/elec/meter30\n"
       ]
      },
      {
       "output_type": "stream",
       "stream": "stdout",
       "text": [
        "first day 2013-03-12 ;  last day 2013-05-05\n",
        "   day_index start="
       ]
      },
      {
       "output_type": "stream",
       "stream": "stdout",
       "text": [
        "2013-03-12 00:00:00, end=2013-05-05 00:00:00, n days=55\n",
        "/building1/elec/meter31\n"
       ]
      },
      {
       "output_type": "stream",
       "stream": "stdout",
       "text": [
        "first day 2013-03-13 ;  last day 2014-11-16\n",
        "   day_index start="
       ]
      },
      {
       "output_type": "stream",
       "stream": "stdout",
       "text": [
        "2013-03-13 00:00:00, end=2014-11-16 00:00:00, n days=591\n",
        "/building1/elec/meter32\n"
       ]
      },
      {
       "output_type": "stream",
       "stream": "stdout",
       "text": [
        "first day 2013-03-13 ;  last day 2014-11-16\n",
        "   day_index start="
       ]
      },
      {
       "output_type": "stream",
       "stream": "stdout",
       "text": [
        "2013-03-13 00:00:00, end=2014-11-16 00:00:00, n days=614\n",
        "/building1/elec/meter33\n"
       ]
      },
      {
       "output_type": "stream",
       "stream": "stdout",
       "text": [
        "first day 2013-03-12 ;  last day 2014-11-16\n",
        "   day_index start="
       ]
      },
      {
       "output_type": "stream",
       "stream": "stdout",
       "text": [
        "2013-03-12 00:00:00, end=2014-11-16 00:00:00, n days=551\n",
        "/building1/elec/meter34\n"
       ]
      },
      {
       "output_type": "stream",
       "stream": "stdout",
       "text": [
        "first day 2013-03-12 ;  last day 2014-11-16\n",
        "   day_index start="
       ]
      },
      {
       "output_type": "stream",
       "stream": "stdout",
       "text": [
        "2013-03-12 00:00:00, end=2014-11-16 00:00:00, n days=582\n",
        "/building1/elec/meter35\n"
       ]
      },
      {
       "output_type": "stream",
       "stream": "stdout",
       "text": [
        "first day 2013-03-12 ;  last day 2014-11-11\n",
        "   day_index start="
       ]
      },
      {
       "output_type": "stream",
       "stream": "stdout",
       "text": [
        "2013-03-12 00:00:00, end=2014-11-07 00:00:00, n days=604\n",
        "/building1/elec/meter36\n"
       ]
      },
      {
       "output_type": "stream",
       "stream": "stdout",
       "text": [
        "first day 2013-02-09 ;  last day 2014-11-16\n",
        "   day_index start="
       ]
      },
      {
       "output_type": "stream",
       "stream": "stdout",
       "text": [
        "2013-02-09 00:00:00, end=2014-11-16 00:00:00, n days=618\n",
        "/building1/elec/meter37\n"
       ]
      },
      {
       "output_type": "stream",
       "stream": "stdout",
       "text": [
        "first day 2013-03-13 ;  last day 2014-11-16\n",
        "   day_index start="
       ]
      },
      {
       "output_type": "stream",
       "stream": "stdout",
       "text": [
        "2013-03-13 00:00:00, end=2014-11-16 00:00:00, n days=614\n",
        "/building1/elec/meter38\n"
       ]
      },
      {
       "output_type": "stream",
       "stream": "stdout",
       "text": [
        "first day 2013-03-13 ;  last day 2014-11-16\n",
        "   day_index start="
       ]
      },
      {
       "output_type": "stream",
       "stream": "stdout",
       "text": [
        "2013-03-13 00:00:00, end=2014-11-16 00:00:00, n days=614\n",
        "/building1/elec/meter39\n"
       ]
      },
      {
       "output_type": "stream",
       "stream": "stdout",
       "text": [
        "first day 2013-03-15 ;  last day 2014-11-13\n",
        "   day_index start="
       ]
      },
      {
       "output_type": "stream",
       "stream": "stdout",
       "text": [
        "2013-03-15 00:00:00, end=2014-11-13 00:00:00, n days=185\n",
        "/building1/elec/meter4\n"
       ]
      },
      {
       "output_type": "stream",
       "stream": "stdout",
       "text": [
        "first day 2012-11-16 ;  last day 2014-11-14\n",
        "   day_index start="
       ]
      },
      {
       "output_type": "stream",
       "stream": "stdout",
       "text": [
        "2012-11-16 00:00:00, end=2014-11-14 00:00:00, n days=470\n",
        "/building1/elec/meter40\n"
       ]
      },
      {
       "output_type": "stream",
       "stream": "stdout",
       "text": [
        "first day 2013-03-15 ;  last day 2014-11-13\n",
        "   day_index start="
       ]
      },
      {
       "output_type": "stream",
       "stream": "stdout",
       "text": [
        "2013-03-15 00:00:00, end=2014-11-13 00:00:00, n days=242\n",
        "/building1/elec/meter41\n"
       ]
      },
      {
       "output_type": "stream",
       "stream": "stdout",
       "text": [
        "first day 2013-04-25 ;  last day 2014-08-30\n",
        "   day_index start="
       ]
      },
      {
       "output_type": "stream",
       "stream": "stdout",
       "text": [
        "2013-04-25 00:00:00, end=2014-08-30 00:00:00, n days=23\n",
        "/building1/elec/meter42\n"
       ]
      },
      {
       "output_type": "stream",
       "stream": "stdout",
       "text": [
        "first day 2013-03-14 ;  last day 2014-11-16\n",
        "   day_index start="
       ]
      },
      {
       "output_type": "stream",
       "stream": "stdout",
       "text": [
        "2013-03-14 00:00:00, end=2014-11-16 00:00:00, n days=613\n",
        "/building1/elec/meter43\n"
       ]
      },
      {
       "output_type": "stream",
       "stream": "stdout",
       "text": [
        "first day 2013-03-14 ;  last day 2014-11-16\n",
        "   day_index start="
       ]
      },
      {
       "output_type": "stream",
       "stream": "stdout",
       "text": [
        "2013-03-14 00:00:00, end=2014-11-16 00:00:00, n days=613\n",
        "/building1/elec/meter44\n"
       ]
      },
      {
       "output_type": "stream",
       "stream": "stdout",
       "text": [
        "first day 2013-03-15 ;  last day 2014-11-16\n",
        "   day_index start="
       ]
      },
      {
       "output_type": "stream",
       "stream": "stdout",
       "text": [
        "2013-03-15 00:00:00, end=2014-11-16 00:00:00, n days=612\n",
        "/building1/elec/meter45\n"
       ]
      },
      {
       "output_type": "stream",
       "stream": "stdout",
       "text": [
        "first day 2013-03-15 ;  last day 2014-11-16\n",
        "   day_index start="
       ]
      },
      {
       "output_type": "stream",
       "stream": "stdout",
       "text": [
        "2013-03-15 00:00:00, end=2014-11-16 00:00:00, n days=593\n",
        "/building1/elec/meter46\n"
       ]
      },
      {
       "output_type": "stream",
       "stream": "stdout",
       "text": [
        "first day 2013-03-15 ;  last day 2014-11-16\n",
        "   day_index start="
       ]
      },
      {
       "output_type": "stream",
       "stream": "stdout",
       "text": [
        "2013-03-15 00:00:00, end=2014-11-16 00:00:00, n days=559\n",
        "/building1/elec/meter47\n"
       ]
      },
      {
       "output_type": "stream",
       "stream": "stdout",
       "text": [
        "first day 2013-04-11 ;  last day 2014-11-16\n",
        "   day_index start="
       ]
      },
      {
       "output_type": "stream",
       "stream": "stdout",
       "text": [
        "2013-04-11 00:00:00, end=2014-11-16 00:00:00, n days=585\n",
        "/building1/elec/meter48\n"
       ]
      },
      {
       "output_type": "stream",
       "stream": "stdout",
       "text": [
        "first day 2013-04-11 ;  last day 2014-11-16\n",
        "   day_index start="
       ]
      },
      {
       "output_type": "stream",
       "stream": "stdout",
       "text": [
        "2013-04-11 00:00:00, end=2014-11-16 00:00:00, n days=585\n",
        "/building1/elec/meter49\n"
       ]
      },
      {
       "output_type": "stream",
       "stream": "stdout",
       "text": [
        "first day 2013-04-11 ;  last day 2014-11-16\n",
        "   day_index start="
       ]
      },
      {
       "output_type": "stream",
       "stream": "stdout",
       "text": [
        "2013-04-11 00:00:00, end=2014-11-16 00:00:00, n days=554\n",
        "/building1/elec/meter5\n"
       ]
      },
      {
       "output_type": "stream",
       "stream": "stdout",
       "text": [
        "first day 2012-11-09 ;  last day 2014-11-16\n",
        "   day_index start="
       ]
      },
      {
       "output_type": "stream",
       "stream": "stdout",
       "text": [
        "2012-11-09 00:00:00, end=2014-11-16 00:00:00, n days=709\n",
        "/building1/elec/meter50\n"
       ]
      },
      {
       "output_type": "stream",
       "stream": "stdout",
       "text": [
        "first day 2013-04-11 ;  last day 2014-11-14\n",
        "   day_index start="
       ]
      },
      {
       "output_type": "stream",
       "stream": "stdout",
       "text": [
        "2013-04-11 00:00:00, end=2014-11-14 00:00:00, n days=353\n",
        "/building1/elec/meter51\n"
       ]
      },
      {
       "output_type": "stream",
       "stream": "stdout",
       "text": [
        "first day 2013-04-11 ;  last day 2014-11-14\n",
        "   day_index start="
       ]
      },
      {
       "output_type": "stream",
       "stream": "stdout",
       "text": [
        "2013-04-11 00:00:00, end=2014-11-14 00:00:00, n days=353\n",
        "/building1/elec/meter52\n"
       ]
      },
      {
       "output_type": "stream",
       "stream": "stdout",
       "text": [
        "first day 2013-06-19 ;  last day 2014-09-22\n",
        "   day_index start="
       ]
      },
      {
       "output_type": "stream",
       "stream": "stdout",
       "text": [
        "2013-06-19 00:00:00, end=2014-09-22 00:00:00, n days=194\n",
        "/building1/elec/meter53\n"
       ]
      },
      {
       "output_type": "stream",
       "stream": "stdout",
       "text": [
        "first day 2013-10-22 ;  last day 2014-11-14\n",
        "   day_index start="
       ]
      },
      {
       "output_type": "stream",
       "stream": "stdout",
       "text": [
        "2013-10-22 00:00:00, end=2014-11-14 00:00:00, n days=241\n",
        "/building1/elec/meter54\n"
       ]
      },
      {
       "output_type": "stream",
       "stream": "stdout",
       "text": [
        "first day 2013-03-17 ;  last day 2014-11-16\n",
        "   day_index start="
       ]
      },
      {
       "output_type": "stream",
       "stream": "stdout",
       "text": [
        "2013-03-17 00:00:00, end=2014-11-16 00:00:00, n days=610\n",
        "/building1/elec/meter6\n"
       ]
      },
      {
       "output_type": "stream",
       "stream": "stdout",
       "text": [
        "first day 2012-11-09 ;  last day 2014-11-16\n",
        "   day_index start="
       ]
      },
      {
       "output_type": "stream",
       "stream": "stdout",
       "text": [
        "2012-11-09 00:00:00, end=2014-11-16 00:00:00, n days=717\n",
        "/building1/elec/meter7\n"
       ]
      },
      {
       "output_type": "stream",
       "stream": "stdout",
       "text": [
        "first day 2012-11-09 ;  last day 2014-11-16\n",
        "   day_index start="
       ]
      },
      {
       "output_type": "stream",
       "stream": "stdout",
       "text": [
        "2012-11-09 00:00:00, end=2014-11-16 00:00:00, n days=717\n",
        "/building1/elec/meter8\n"
       ]
      },
      {
       "output_type": "stream",
       "stream": "stdout",
       "text": [
        "first day 2012-11-12 ;  last day 2014-11-16\n",
        "   day_index start="
       ]
      },
      {
       "output_type": "stream",
       "stream": "stdout",
       "text": [
        "2012-11-12 00:00:00, end=2014-11-16 00:00:00, n days=714\n",
        "/building1/elec/meter9\n"
       ]
      },
      {
       "output_type": "stream",
       "stream": "stdout",
       "text": [
        "first day 2012-12-14 ;  last day 2014-11-16\n",
        "   day_index start="
       ]
      },
      {
       "output_type": "stream",
       "stream": "stdout",
       "text": [
        "2012-12-14 00:00:00, end=2014-11-16 00:00:00, n days=692\n"
       ]
      }
     ],
     "prompt_number": 58
    },
    {
     "cell_type": "code",
     "collapsed": false,
     "input": [
      "store.close()"
     ],
     "language": "python",
     "metadata": {},
     "outputs": [],
     "prompt_number": 60
    },
    {
     "cell_type": "code",
     "collapsed": false,
     "input": [
      "store.select('/building1/elec/meter35').tail()"
     ],
     "language": "python",
     "metadata": {},
     "outputs": [
      {
       "html": [
        "<div style=\"max-height:1000px;max-width:1500px;overflow:auto;\">\n",
        "<table border=\"1\" class=\"dataframe\">\n",
        "  <thead>\n",
        "    <tr>\n",
        "      <th>physical_quantity</th>\n",
        "      <th>power</th>\n",
        "    </tr>\n",
        "    <tr>\n",
        "      <th>type</th>\n",
        "      <th>active</th>\n",
        "    </tr>\n",
        "  </thead>\n",
        "  <tbody>\n",
        "    <tr>\n",
        "      <th>2014-11-11 10:44:48+00:00</th>\n",
        "      <td> 0</td>\n",
        "    </tr>\n",
        "    <tr>\n",
        "      <th>2014-11-11 10:44:56+00:00</th>\n",
        "      <td> 0</td>\n",
        "    </tr>\n",
        "    <tr>\n",
        "      <th>2014-11-11 10:45:04+00:00</th>\n",
        "      <td> 0</td>\n",
        "    </tr>\n",
        "    <tr>\n",
        "      <th>2014-11-11 10:45:10+00:00</th>\n",
        "      <td> 0</td>\n",
        "    </tr>\n",
        "    <tr>\n",
        "      <th>2014-11-11 10:45:16+00:00</th>\n",
        "      <td> 0</td>\n",
        "    </tr>\n",
        "  </tbody>\n",
        "</table>\n",
        "</div>"
       ],
       "metadata": {},
       "output_type": "pyout",
       "prompt_number": 14,
       "text": [
        "physical_quantity          power\n",
        "type                      active\n",
        "2014-11-11 10:44:48+00:00      0\n",
        "2014-11-11 10:44:56+00:00      0\n",
        "2014-11-11 10:45:04+00:00      0\n",
        "2014-11-11 10:45:10+00:00      0\n",
        "2014-11-11 10:45:16+00:00      0"
       ]
      }
     ],
     "prompt_number": 14
    },
    {
     "cell_type": "code",
     "collapsed": false,
     "input": [],
     "language": "python",
     "metadata": {},
     "outputs": []
    }
   ],
   "metadata": {}
  }
 ]
}
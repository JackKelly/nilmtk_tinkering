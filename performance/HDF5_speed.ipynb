{
 "metadata": {
  "name": "",
  "signature": "sha256:70ecac9bfa0a531491c1f329ab9478f73a45d117d2f0966993f2748c52a5a268"
 },
 "nbformat": 3,
 "nbformat_minor": 0,
 "worksheets": [
  {
   "cells": [
    {
     "cell_type": "markdown",
     "metadata": {},
     "source": [
      "From http://stackoverflow.com/a/17959914/732596"
     ]
    },
    {
     "cell_type": "code",
     "collapsed": false,
     "input": [
      "from __future__ import print_function, division\n",
      "import pandas as pd\n",
      "import numpy as np\n",
      "\n",
      "print(\"pandas version =\", pd.__version__)\n",
      "print(\"numpy version  =\", np.__version__)"
     ],
     "language": "python",
     "metadata": {},
     "outputs": [
      {
       "output_type": "stream",
       "stream": "stdout",
       "text": [
        "pandas version = 0.15.1\n",
        "numpy version  = 1.8.2\n"
       ]
      }
     ],
     "prompt_number": 23
    },
    {
     "cell_type": "code",
     "collapsed": false,
     "input": [
      "N = 1e6\n",
      "idx = pd.date_range(\"2010-01-01 00:00\", freq='S', periods=N)\n",
      "def create_df():\n",
      "    return pd.DataFrame(np.random.randn(N,1), index=idx)\n",
      "\n",
      "df1 = create_df()"
     ],
     "language": "python",
     "metadata": {},
     "outputs": [],
     "prompt_number": 43
    },
    {
     "cell_type": "code",
     "collapsed": false,
     "input": [
      "def create_store(fname):\n",
      "    return pd.HDFStore(\n",
      "        fname, mode='w', complevel=5, complib='blosc',\n",
      "        format='table', index=False)"
     ],
     "language": "python",
     "metadata": {},
     "outputs": [],
     "prompt_number": 44
    },
    {
     "cell_type": "code",
     "collapsed": false,
     "input": [
      "store = create_store('test.h5')"
     ],
     "language": "python",
     "metadata": {},
     "outputs": [],
     "prompt_number": 45
    },
    {
     "cell_type": "code",
     "collapsed": false,
     "input": [
      "%%time\n",
      "def store_put(key, df):\n",
      "    store.put(key, df, format='table', index=False, expectedrows=len(df))\n",
      "    \n",
      "store_put('df1', df1)\n",
      "store.close()"
     ],
     "language": "python",
     "metadata": {},
     "outputs": [
      {
       "output_type": "stream",
       "stream": "stdout",
       "text": [
        "CPU times: user 123 ms, sys: 27.5 ms, total: 150 ms\n",
        "Wall time: 80.7 ms\n"
       ]
      }
     ],
     "prompt_number": 46
    },
    {
     "cell_type": "code",
     "collapsed": false,
     "input": [
      "def getstore_and_print_table(fname):\n",
      "    import pprint\n",
      "    store = pd.HDFStore(fname)\n",
      "    pprint.pprint(store.get_storer('df1').group.table)\n",
      "    return store"
     ],
     "language": "python",
     "metadata": {},
     "outputs": [],
     "prompt_number": 47
    },
    {
     "cell_type": "code",
     "collapsed": false,
     "input": [
      "store = getstore_and_print_table('test.h5')"
     ],
     "language": "python",
     "metadata": {},
     "outputs": [
      {
       "output_type": "stream",
       "stream": "stdout",
       "text": [
        "/df1/table (Table(1000000,), shuffle, blosc(5)) ''\n",
        "  description := {\n",
        "  \"index\": Int64Col(shape=(), dflt=0, pos=0),\n",
        "  \"values_block_0\": Float64Col(shape=(1,), dflt=0.0, pos=1)}\n",
        "  byteorder := 'little'\n",
        "  chunkshape := (8192,)\n"
       ]
      }
     ],
     "prompt_number": 48
    },
    {
     "cell_type": "code",
     "collapsed": false,
     "input": [
      "query = [\"index > pd.Timestamp('2010-01-05 00:00')\",\n",
      "         \"index < pd.Timestamp('2010-01-10 00:00')\"]\n",
      "%timeit store.select('df1', query)"
     ],
     "language": "python",
     "metadata": {},
     "outputs": [
      {
       "output_type": "stream",
       "stream": "stdout",
       "text": [
        "1 loops, best of 3: 143 ms per loop\n"
       ]
      }
     ],
     "prompt_number": 49
    },
    {
     "cell_type": "code",
     "collapsed": false,
     "input": [
      "%%time\n",
      "store.create_table_index('df1', columns=['index'], kind='full')"
     ],
     "language": "python",
     "metadata": {},
     "outputs": [
      {
       "output_type": "stream",
       "stream": "stdout",
       "text": [
        "CPU times: user 555 ms, sys: 15 ms, total: 570 ms\n",
        "Wall time: 564 ms\n"
       ]
      }
     ],
     "prompt_number": 50
    },
    {
     "cell_type": "code",
     "collapsed": false,
     "input": [
      "%timeit store.select('df1', query)"
     ],
     "language": "python",
     "metadata": {},
     "outputs": [
      {
       "output_type": "stream",
       "stream": "stdout",
       "text": [
        "10 loops, best of 3: 180 ms per loop\n"
       ]
      }
     ],
     "prompt_number": 51
    },
    {
     "cell_type": "code",
     "collapsed": false,
     "input": [
      "%%time\n",
      "store.create_table_index('df1', columns=['index'], kind='full', optlevel=9)"
     ],
     "language": "python",
     "metadata": {},
     "outputs": [
      {
       "output_type": "stream",
       "stream": "stdout",
       "text": [
        "CPU times: user 657 ms, sys: 16.5 ms, total: 674 ms\n",
        "Wall time: 662 ms\n"
       ]
      }
     ],
     "prompt_number": 52
    },
    {
     "cell_type": "code",
     "collapsed": false,
     "input": [
      "%timeit store.select('df1', query)"
     ],
     "language": "python",
     "metadata": {},
     "outputs": [
      {
       "output_type": "stream",
       "stream": "stdout",
       "text": [
        "10 loops, best of 3: 176 ms per loop\n"
       ]
      }
     ],
     "prompt_number": 53
    },
    {
     "cell_type": "code",
     "collapsed": false,
     "input": [
      "store.close()"
     ],
     "language": "python",
     "metadata": {},
     "outputs": [],
     "prompt_number": 54
    },
    {
     "cell_type": "code",
     "collapsed": false,
     "input": [
      "!ptdump -v test.h5"
     ],
     "language": "python",
     "metadata": {},
     "outputs": [
      {
       "output_type": "stream",
       "stream": "stdout",
       "text": [
        "/ (RootGroup) ''\r\n"
       ]
      },
      {
       "output_type": "stream",
       "stream": "stdout",
       "text": [
        "/df1 (Group) ''\r\n",
        "/df1/table (Table(1000000,), shuffle, blosc(5)) ''\r\n",
        "  description := {\r\n",
        "  \"index\": Int64Col(shape=(), dflt=0, pos=0),\r\n",
        "  \"values_block_0\": Float64Col(shape=(1,), dflt=0.0, pos=1)}\r\n",
        "  byteorder := 'little'\r\n",
        "  chunkshape := (8192,)\r\n",
        "  autoindex := True\r\n",
        "  colindexes := {\r\n",
        "    \"index\": Index(9, full, shuffle, zlib(1)).is_csi=True}\r\n"
       ]
      }
     ],
     "prompt_number": 55
    },
    {
     "cell_type": "code",
     "collapsed": false,
     "input": [
      "%%time \n",
      "!ptrepack --chunkshape=auto --sortby=index --checkCSI test.h5 -o test_sorted.h5"
     ],
     "language": "python",
     "metadata": {},
     "outputs": [
      {
       "output_type": "stream",
       "stream": "stdout",
       "text": [
        "CPU times: user 26.6 ms, sys: 12.2 ms, total: 38.8 ms\n",
        "Wall time: 16.2 s\n"
       ]
      }
     ],
     "prompt_number": 37
    },
    {
     "cell_type": "code",
     "collapsed": false,
     "input": [
      "!ptdump -v test_sorted.h5"
     ],
     "language": "python",
     "metadata": {},
     "outputs": [
      {
       "output_type": "stream",
       "stream": "stdout",
       "text": [
        "/ (RootGroup) ''\r\n"
       ]
      },
      {
       "output_type": "stream",
       "stream": "stdout",
       "text": [
        "/df1 (Group) ''\r\n",
        "/df1/table (Table(1000000,)) ''\r\n",
        "  description := {\r\n",
        "  \"index\": Int64Col(shape=(), dflt=0, pos=0),\r\n",
        "  \"values_block_0\": Float64Col(shape=(1,), dflt=0.0, pos=1)}\r\n",
        "  byteorder := 'little'\r\n",
        "  chunkshape := (8192,)\r\n"
       ]
      }
     ],
     "prompt_number": 38
    },
    {
     "cell_type": "code",
     "collapsed": false,
     "input": [
      "store = getstore_and_print_table('test_sorted.h5')"
     ],
     "language": "python",
     "metadata": {},
     "outputs": [
      {
       "output_type": "stream",
       "stream": "stdout",
       "text": [
        "/df1/table (Table(1000000,)) ''\n",
        "  description := {\n",
        "  \"index\": Int64Col(shape=(), dflt=0, pos=0),\n",
        "  \"values_block_0\": Float64Col(shape=(1,), dflt=0.0, pos=1)}\n",
        "  byteorder := 'little'\n",
        "  chunkshape := (8192,)\n"
       ]
      }
     ],
     "prompt_number": 39
    },
    {
     "cell_type": "code",
     "collapsed": false,
     "input": [
      "store"
     ],
     "language": "python",
     "metadata": {},
     "outputs": [
      {
       "metadata": {},
       "output_type": "pyout",
       "prompt_number": 40,
       "text": [
        "<class 'pandas.io.pytables.HDFStore'>\n",
        "File path: test_sorted.h5\n",
        "/df1            frame_table  (typ->appendable,nrows->1000000,ncols->1,indexers->[index])"
       ]
      }
     ],
     "prompt_number": 40
    },
    {
     "cell_type": "code",
     "collapsed": false,
     "input": [
      "%timeit store.select('df1', query)"
     ],
     "language": "python",
     "metadata": {},
     "outputs": [
      {
       "output_type": "stream",
       "stream": "stdout",
       "text": [
        "10 loops, best of 3: 156 ms per loop\n"
       ]
      }
     ],
     "prompt_number": 41
    },
    {
     "cell_type": "code",
     "collapsed": false,
     "input": [
      "store.close()"
     ],
     "language": "python",
     "metadata": {},
     "outputs": [],
     "prompt_number": 42
    },
    {
     "cell_type": "code",
     "collapsed": false,
     "input": [
      "%%time\n",
      "!ptrepack --chunkshape=auto --sortby=index --propindexes test.h5 -o test_prop.h5 "
     ],
     "language": "python",
     "metadata": {},
     "outputs": []
    },
    {
     "cell_type": "code",
     "collapsed": false,
     "input": [
      "store = getstore_and_print_table('test_prop.h5')"
     ],
     "language": "python",
     "metadata": {},
     "outputs": []
    },
    {
     "cell_type": "code",
     "collapsed": false,
     "input": [
      "%timeit store.select('df1', query)"
     ],
     "language": "python",
     "metadata": {},
     "outputs": []
    },
    {
     "cell_type": "code",
     "collapsed": false,
     "input": [
      "store.close()"
     ],
     "language": "python",
     "metadata": {},
     "outputs": []
    },
    {
     "cell_type": "code",
     "collapsed": false,
     "input": [
      "%%time\n",
      "!ptrepack --chunkshape=auto --sortby=index --complib=blosc --complevel=5 test.h5 -o test_comp.h5 "
     ],
     "language": "python",
     "metadata": {},
     "outputs": [
      {
       "output_type": "stream",
       "stream": "stdout",
       "text": [
        "CPU times: user 614 ms, sys: 67.2 ms, total: 681 ms\n",
        "Wall time: 5min 14s\n"
       ]
      }
     ],
     "prompt_number": 16
    },
    {
     "cell_type": "code",
     "collapsed": false,
     "input": [
      "!ptdump -v test_comp.h5"
     ],
     "language": "python",
     "metadata": {},
     "outputs": [
      {
       "output_type": "stream",
       "stream": "stdout",
       "text": [
        "/ (RootGroup) ''\r\n"
       ]
      },
      {
       "output_type": "stream",
       "stream": "stdout",
       "text": [
        "/df1 (Group) ''\r\n",
        "/df1/table (Table(10000000,), shuffle, blosc(5)) ''\r\n",
        "  description := {\r\n",
        "  \"index\": Int64Col(shape=(), dflt=0, pos=0),\r\n",
        "  \"values_block_0\": Float64Col(shape=(1,), dflt=0.0, pos=1)}\r\n",
        "  byteorder := 'little'\r\n",
        "  chunkshape := (16384,)\r\n"
       ]
      }
     ],
     "prompt_number": 17
    },
    {
     "cell_type": "code",
     "collapsed": false,
     "input": [
      "!ls -alh *.h5"
     ],
     "language": "python",
     "metadata": {},
     "outputs": [
      {
       "output_type": "stream",
       "stream": "stdout",
       "text": [
        "-rw-rw-r-- 1 dk3810 dk3810  93M Nov 18 15:11 test_comp.h5\r\n",
        "-rw-rw-r-- 1 dk3810 dk3810 103M Nov 18 15:05 test.h5\r\n",
        "-rw-rw-r-- 1 dk3810 dk3810  34M Nov 18 14:42 test_prop.h5\r\n",
        "-rw-rw-r-- 1 dk3810 dk3810  31M Nov 18 14:41 test_sorted.h5\r\n"
       ]
      }
     ],
     "prompt_number": 18
    },
    {
     "cell_type": "code",
     "collapsed": false,
     "input": [
      "store = getstore_and_print_table('test_comp.h5')"
     ],
     "language": "python",
     "metadata": {},
     "outputs": [
      {
       "output_type": "stream",
       "stream": "stdout",
       "text": [
        "/df1/table (Table(10000000,), shuffle, blosc(5)) ''\n",
        "  description := {\n",
        "  \"index\": Int64Col(shape=(), dflt=0, pos=0),\n",
        "  \"values_block_0\": Float64Col(shape=(1,), dflt=0.0, pos=1)}\n",
        "  byteorder := 'little'\n",
        "  chunkshape := (16384,)\n"
       ]
      }
     ],
     "prompt_number": 19
    },
    {
     "cell_type": "code",
     "collapsed": false,
     "input": [
      "%timeit store.select('df1', query)"
     ],
     "language": "python",
     "metadata": {},
     "outputs": [
      {
       "output_type": "stream",
       "stream": "stdout",
       "text": [
        "1 loops, best of 3: 213 ms per loop\n"
       ]
      }
     ],
     "prompt_number": 22
    },
    {
     "cell_type": "code",
     "collapsed": false,
     "input": [],
     "language": "python",
     "metadata": {},
     "outputs": []
    }
   ],
   "metadata": {}
  }
 ]
}